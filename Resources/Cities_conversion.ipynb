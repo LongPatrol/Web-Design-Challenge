{
 "cells": [
  {
   "cell_type": "code",
   "execution_count": 1,
   "metadata": {},
   "outputs": [],
   "source": [
    "import pandas as pd\n"
   ]
  },
  {
   "cell_type": "code",
   "execution_count": 2,
   "metadata": {},
   "outputs": [],
   "source": [
    "cities_df = pd.read_csv(\"cities.csv\")"
   ]
  },
  {
   "cell_type": "code",
   "execution_count": 3,
   "metadata": {},
   "outputs": [
    {
     "data": {
      "text/html": [
       "<div>\n",
       "<style scoped>\n",
       "    .dataframe tbody tr th:only-of-type {\n",
       "        vertical-align: middle;\n",
       "    }\n",
       "\n",
       "    .dataframe tbody tr th {\n",
       "        vertical-align: top;\n",
       "    }\n",
       "\n",
       "    .dataframe thead th {\n",
       "        text-align: right;\n",
       "    }\n",
       "</style>\n",
       "<table border=\"1\" class=\"dataframe\">\n",
       "  <thead>\n",
       "    <tr style=\"text-align: right;\">\n",
       "      <th></th>\n",
       "      <th>City</th>\n",
       "      <th>Lat</th>\n",
       "      <th>Lng</th>\n",
       "      <th>Max Temp</th>\n",
       "      <th>Humidity</th>\n",
       "      <th>Cloudiness</th>\n",
       "      <th>Wind Speed</th>\n",
       "      <th>Country</th>\n",
       "      <th>Date</th>\n",
       "    </tr>\n",
       "  </thead>\n",
       "  <tbody>\n",
       "    <tr>\n",
       "      <th>0</th>\n",
       "      <td>Busselton</td>\n",
       "      <td>-33.65</td>\n",
       "      <td>115.33</td>\n",
       "      <td>59.00</td>\n",
       "      <td>90</td>\n",
       "      <td>0</td>\n",
       "      <td>16.04</td>\n",
       "      <td>AU</td>\n",
       "      <td>1608418814</td>\n",
       "    </tr>\n",
       "    <tr>\n",
       "      <th>1</th>\n",
       "      <td>Hermanus</td>\n",
       "      <td>-34.42</td>\n",
       "      <td>19.23</td>\n",
       "      <td>62.01</td>\n",
       "      <td>90</td>\n",
       "      <td>0</td>\n",
       "      <td>1.01</td>\n",
       "      <td>ZA</td>\n",
       "      <td>1608419152</td>\n",
       "    </tr>\n",
       "    <tr>\n",
       "      <th>2</th>\n",
       "      <td>Port Alfred</td>\n",
       "      <td>-33.59</td>\n",
       "      <td>26.89</td>\n",
       "      <td>72.00</td>\n",
       "      <td>96</td>\n",
       "      <td>6</td>\n",
       "      <td>3.00</td>\n",
       "      <td>ZA</td>\n",
       "      <td>1608419176</td>\n",
       "    </tr>\n",
       "    <tr>\n",
       "      <th>3</th>\n",
       "      <td>Linares</td>\n",
       "      <td>-35.85</td>\n",
       "      <td>-71.60</td>\n",
       "      <td>72.36</td>\n",
       "      <td>33</td>\n",
       "      <td>36</td>\n",
       "      <td>13.02</td>\n",
       "      <td>CL</td>\n",
       "      <td>1608419311</td>\n",
       "    </tr>\n",
       "    <tr>\n",
       "      <th>4</th>\n",
       "      <td>Pevek</td>\n",
       "      <td>69.70</td>\n",
       "      <td>170.31</td>\n",
       "      <td>1.26</td>\n",
       "      <td>90</td>\n",
       "      <td>0</td>\n",
       "      <td>6.13</td>\n",
       "      <td>RU</td>\n",
       "      <td>1608419146</td>\n",
       "    </tr>\n",
       "  </tbody>\n",
       "</table>\n",
       "</div>"
      ],
      "text/plain": [
       "          City    Lat     Lng  Max Temp  Humidity  Cloudiness  Wind Speed  \\\n",
       "0    Busselton -33.65  115.33     59.00        90           0       16.04   \n",
       "1     Hermanus -34.42   19.23     62.01        90           0        1.01   \n",
       "2  Port Alfred -33.59   26.89     72.00        96           6        3.00   \n",
       "3      Linares -35.85  -71.60     72.36        33          36       13.02   \n",
       "4        Pevek  69.70  170.31      1.26        90           0        6.13   \n",
       "\n",
       "  Country        Date  \n",
       "0      AU  1608418814  \n",
       "1      ZA  1608419152  \n",
       "2      ZA  1608419176  \n",
       "3      CL  1608419311  \n",
       "4      RU  1608419146  "
      ]
     },
     "execution_count": 3,
     "metadata": {},
     "output_type": "execute_result"
    }
   ],
   "source": [
    "cities_df.head()"
   ]
  },
  {
   "cell_type": "code",
   "execution_count": 7,
   "metadata": {},
   "outputs": [],
   "source": [
    "html = cities_df.to_html()\n"
   ]
  },
  {
   "cell_type": "code",
   "execution_count": 9,
   "metadata": {},
   "outputs": [],
   "source": [
    "text_file = open(\"cities.html\", \"w\", encoding='utf-8')\n",
    "text_file.write(html)\n",
    "text_file.close()"
   ]
  },
  {
   "cell_type": "code",
   "execution_count": null,
   "metadata": {},
   "outputs": [],
   "source": []
  }
 ],
 "metadata": {
  "kernelspec": {
   "display_name": "Python 3",
   "language": "python",
   "name": "python3"
  },
  "language_info": {
   "codemirror_mode": {
    "name": "ipython",
    "version": 3
   },
   "file_extension": ".py",
   "mimetype": "text/x-python",
   "name": "python",
   "nbconvert_exporter": "python",
   "pygments_lexer": "ipython3",
   "version": "3.6.10"
  }
 },
 "nbformat": 4,
 "nbformat_minor": 4
}
